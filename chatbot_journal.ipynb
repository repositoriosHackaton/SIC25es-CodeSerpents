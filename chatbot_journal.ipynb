{
 "cells": [
  {
   "cell_type": "code",
   "execution_count": 4,
   "metadata": {},
   "outputs": [],
   "source": [
    "import kagglehub\n",
    "import os\n",
    "import numpy as np\n",
    "import pandas as pd\n",
    "import re\n",
    "import nltk\n",
    "from nltk.corpus import stopwords\n",
    "from sklearn.model_selection import train_test_split\n",
    "from mlxtend.plotting import plot_confusion_matrix\n",
    "from sklearn.tree import DecisionTreeClassifier\n",
    "from sklearn.metrics import accuracy_score, confusion_matrix, classification_report\n",
    "from nltk.corpus import stopwords\n",
    "from nltk.tokenize import word_tokenize\n",
    "from nltk.stem import WordNetLemmatizer\n",
    "import joblib\n",
    "from sklearn.feature_extraction.text import TfidfVectorizer\n",
    "import matplotlib.pyplot as plt\n",
    "import joblib \n",
    "import numpy as np\n",
    "import random\n",
    "\n"
   ]
  },
  {
   "cell_type": "code",
   "execution_count": null,
   "metadata": {},
   "outputs": [
    {
     "name": "stdout",
     "output_type": "stream",
     "text": [
      "Hi!, I am Prisma, ready to help you, whatś you name?\n",
      "You can write exit to end\n",
      "Prisma (sadness): Recuerda que no estás solo\n",
      "Prisma (joy): Me parece genial que te sientas así, cuéntame más\n",
      "Prisma (sadness): Recuerda que no estás solo\n",
      "Prisma (depression): Life is hard sometimes but there are more goog moments than bads\n",
      "Prisma: Take Care, I am here to help if you need :)\n"
     ]
    }
   ],
   "source": [
    "#Se hará la implementación del chatbot\n",
    "#Este es un archivo de PRUEBA, no se entrenará ni modificará en este apartado\n",
    "\n",
    "modelo = joblib.load(\"./src/models/SVCM2.pkl\")  \n",
    "v = joblib.load('./src/models/vectorizador.pkl')\n",
    "\n",
    "def text_to_words (tweet):\n",
    "    letters_only= re.sub(\"[^a-zA-Z]\", \" \", tweet) \n",
    "    words = letters_only.lower().split() \n",
    "    stops = set(stopwords.words(\"english\")) \n",
    "    lemmatizer = WordNetLemmatizer()\n",
    "    meaningful_words =[lemmatizer.lemmatize(w) for w in words if w not in stops]\n",
    "    return(\" \".join( meaningful_words ))\n",
    "\n",
    "RESPUESTAS = {\n",
    "    \"sadness\": [\"Lo siento, puedes hablar conmigo, te hará sentir mejor \", \"Recuerda que no estás solo\"],\n",
    "    \"joy\": [\"Me parece genial que te sientas así, cuéntame más\", \"Me alegra que estés bien, dime más\"],\n",
    "    \"fear\": [\"Si te preocupa, puedes contar conmigo\", \"Estoy aquí para ayudarte, no te preocupes\"],\n",
    "    \"anger\": [\"Respira hondo, tomatelo con calma\", \"Cuéntame, desahógate\"],\n",
    "    \"love\": [\"El amor es algo hermoso, me alegra que sientas eso, dime más\", \"¡Eso suena maravilloso!, cuentamelo todo\"],\n",
    "    \"surprise\": [\" Vaya!No me lo esperaba. Cuéntame más.\", \"Eso suena sorprendente\"],\n",
    "    \"depression\": [\"I am here to help you, you are not alone\", \"Life is hard sometimes but there are more goog moments than bads\"]\n",
    "}\n",
    "\n",
    "def predecir_emocion(mensaje):\n",
    "    mensaje_procesado = text_to_words(mensaje)\n",
    "    mensaje_vectorizado = v.transform([mensaje_procesado])  \n",
    "    prediccion = modelo.predict(mensaje_vectorizado)  \n",
    "    return prediccion[0]\n",
    "\n",
    "def chatbot():\n",
    "    print('Hi!, I am Prisma, ready to help you, whatś you name?')\n",
    "    print(\"You can write exit to end\")\n",
    "    nombre_user = input('Tell me your name, it\\'s always good to know a new friend?')\n",
    "\n",
    "    while True:\n",
    "        entrada = input(f\"Hola, qué tal? {nombre_user} \")\n",
    "        if entrada.lower() == \"exit\":\n",
    "            print(\"Prisma: Take Care, I am here to help if you need :)\")\n",
    "            break\n",
    "\n",
    "        emocion = predecir_emocion(entrada)\n",
    "        respuesta = random.choice(RESPUESTAS.get(emocion, [\"I am here to help, you can tell me anything\"]))\n",
    "\n",
    "        print(f\"Prisma ({emocion}): {respuesta}\")\n",
    "\n",
    "\n",
    "chatbot()\n",
    "#El potencial del proyecto? \n",
    "#Orientaciones de implementación"
   ]
  }
 ],
 "metadata": {
  "kernelspec": {
   "display_name": "entorno_sic",
   "language": "python",
   "name": "python3"
  },
  "language_info": {
   "codemirror_mode": {
    "name": "ipython",
    "version": 3
   },
   "file_extension": ".py",
   "mimetype": "text/x-python",
   "name": "python",
   "nbconvert_exporter": "python",
   "pygments_lexer": "ipython3",
   "version": "3.11.2"
  }
 },
 "nbformat": 4,
 "nbformat_minor": 2
}
