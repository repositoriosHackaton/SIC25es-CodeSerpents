{
 "cells": [
  {
   "cell_type": "code",
   "execution_count": 3,
   "metadata": {},
   "outputs": [
    {
     "name": "stderr",
     "output_type": "stream",
     "text": [
      "[nltk_data] Downloading package punkt_tab to\n",
      "[nltk_data]     /home/alexander/nltk_data...\n",
      "[nltk_data]   Package punkt_tab is already up-to-date!\n"
     ]
    },
    {
     "data": {
      "text/plain": [
       "True"
      ]
     },
     "execution_count": 3,
     "metadata": {},
     "output_type": "execute_result"
    }
   ],
   "source": [
    "#Importes\n",
    "import numpy as np\n",
    "import nltk\n",
    "from nltk.corpus import stopwords\n",
    "import joblib\n",
    "import nltk\n",
    "import numpy as np\n",
    "from nltk.stem import PorterStemmer\n",
    "nltk.download('punkt_tab')"
   ]
  },
  {
   "cell_type": "code",
   "execution_count": null,
   "metadata": {},
   "outputs": [
    {
     "name": "stdout",
     "output_type": "stream",
     "text": [
      "\u001b[1m1/1\u001b[0m \u001b[32m━━━━━━━━━━━━━━━━━━━━\u001b[0m\u001b[37m\u001b[0m \u001b[1m0s\u001b[0m 94ms/step\n",
      "Mensaje enviado:  Racism only works for darker skin tones.\n",
      "Predicción de emoción:  ['Xenophobic']\n"
     ]
    }
   ],
   "source": [
    "#Carga del modelo, vectorizador y encoder\n",
    "modelo = joblib.load('./src/models/RNA5.pkl')\n",
    "encoder = joblib.load('./src/models/encoder.pkl') \n",
    "vectorizador = joblib.load('./src/models/vectorizador.pkl')\n",
    "stemmer = PorterStemmer()\n",
    "\n",
    "#ingreso de mensaje y conversión para su prediccion\n",
    "mensaje = input(\"Ingrese el texto o tweet\")\n",
    "vectorizado = vectorizador.transform([mensaje])\n",
    "prediccion = modelo.predict(vectorizado)\n",
    "clase_predicha = np.argmax(prediccion)\n",
    "\n",
    "#Imprimir mensaje y prediccion conseguida\n",
    "print(f\"Mensaje enviado: \", mensaje)\n",
    "print(f\"Predicción de emoción: \", encoder.inverse_transform([clase_predicha]))\n",
    "\n",
    "\n"
   ]
  }
 ],
 "metadata": {
  "kernelspec": {
   "display_name": ".venv",
   "language": "python",
   "name": "python3"
  },
  "language_info": {
   "codemirror_mode": {
    "name": "ipython",
    "version": 3
   },
   "file_extension": ".py",
   "mimetype": "text/x-python",
   "name": "python",
   "nbconvert_exporter": "python",
   "pygments_lexer": "ipython3",
   "version": "3.11.2"
  }
 },
 "nbformat": 4,
 "nbformat_minor": 2
}
