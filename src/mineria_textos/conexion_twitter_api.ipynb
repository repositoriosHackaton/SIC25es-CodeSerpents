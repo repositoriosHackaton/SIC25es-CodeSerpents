{
 "cells": [
  {
   "cell_type": "code",
   "execution_count": null,
   "metadata": {},
   "outputs": [],
   "source": [
    "import tweepy\n",
    "import csv \n",
    "\n",
    "\n",
    "bearer= 'AAAAAAAAAAAAAAAAAAAAADmx0AEAAAAA40HeZnialu6TCsnc0sQY4PJIyZo%3DrvHkbehI6eg0QK97vuDff7Xdj4DsCbL72b0wv4X9XqMkK6m4zA'\n",
    "client = tweepy.Client(bearer_token=bearer)\n",
    "\n",
    "tweets = client.search_recent_tweets(\n",
    "            query=\"sexism\",\n",
    "            max_results=5,\n",
    "            tweet_fields=[\"id\", \"text\"]\n",
    ")\n",
    "\n",
    "\n",
    "\n",
    "with open('../data_sets/prueba.csv', 'w', newline='', encoding='utf-8') as csvfile:\n",
    "            writer = csv.writer(csvfile)\n",
    "            writer.writerow([\n",
    "                'id', 'text'\n",
    "            ])\n",
    "            \n",
    "            for tweet in tweets.data:\n",
    "                metrics = tweet.public_metrics\n",
    "                writer.writerow([\n",
    "                    tweet.id,\n",
    "                    tweet.text.replace('\\n', ' '), \n",
    "                ])\n",
    "            print(f\"Tweets guardados\")\n",
    "\n"
   ]
  }
 ],
 "metadata": {
  "kernelspec": {
   "display_name": ".venv",
   "language": "python",
   "name": "python3"
  },
  "language_info": {
   "codemirror_mode": {
    "name": "ipython",
    "version": 3
   },
   "file_extension": ".py",
   "mimetype": "text/x-python",
   "name": "python",
   "nbconvert_exporter": "python",
   "pygments_lexer": "ipython3",
   "version": "3.11.2"
  }
 },
 "nbformat": 4,
 "nbformat_minor": 2
}
