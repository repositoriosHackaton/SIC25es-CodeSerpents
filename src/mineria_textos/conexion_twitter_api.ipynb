{
 "cells": [
  {
   "cell_type": "code",
   "execution_count": null,
   "metadata": {},
   "outputs": [],
   "source": [
    "import tweepy\n",
    "import csv \n",
    "\n",
    "#Bearer token para poder usar una cuenta de twitter\n",
    "bearer= 'AAAAAAAAAAAAAAAAAAAAADmx0AEAAAAA40HeZnialu6TCsnc0sQY4PJIyZo%3DrvHkbehI6eg0QK97vuDff7Xdj4DsCbL72b0wv4X9XqMkK6m4zA'\n",
    "client = tweepy.Client(bearer_token=bearer)\n",
    "\n",
    "\n",
    "#Ingresar usuario\n",
    "username = input(\"Ingresa el usuario de la cuenta\")\n",
    "\n",
    "\n",
    "#Excepción por si el usuario no existe\n",
    "try:\n",
    "    user = client.get_user(username=username)\n",
    "    user_id = user.data.id\n",
    "except tweepy.NotFound:\n",
    "      print(\"El usuario no existe\")\n",
    "except tweepy.Unauthorized:\n",
    "      print(\"El usuario tiene el perfil en privado\")      \n",
    "\n",
    "\n",
    "#Obtener tweets del usuario      \n",
    "tweets = client.get_users_tweets(\n",
    "        id=user_id,\n",
    "        max_results=10)\n",
    "\n",
    "#Mostrar los tweets\n",
    "for tweet in tweets.data:\n",
    "    print(tweet.text)\n",
    "    print(\"-----\")\n",
    "\n",
    "\n",
    "\n"
   ]
  }
 ],
 "metadata": {
  "kernelspec": {
   "display_name": ".venv",
   "language": "python",
   "name": "python3"
  },
  "language_info": {
   "codemirror_mode": {
    "name": "ipython",
    "version": 3
   },
   "file_extension": ".py",
   "mimetype": "text/x-python",
   "name": "python",
   "nbconvert_exporter": "python",
   "pygments_lexer": "ipython3",
   "version": "3.11.2"
  }
 },
 "nbformat": 4,
 "nbformat_minor": 2
}
