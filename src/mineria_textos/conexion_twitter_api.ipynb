{
 "cells": [
  {
   "cell_type": "code",
   "execution_count": 1,
   "metadata": {},
   "outputs": [
    {
     "name": "stdout",
     "output_type": "stream",
     "text": [
      "RT @liz_churchill10: THIS is how it’s done 🔥\n",
      "\n",
      "“Who elected Soros to dictate Public Policy? Soros and his Cronies hit a Brick Wall in El Sal…\n",
      "-----\n",
      "La defensa es: “Nuestros delincuentes son más poderosos”, “tenemos los mejores delincuentes del mundo”, “nadie puede contra nuestros delincuentes”.\n",
      "\n",
      "Desquiciados.\n",
      "-----\n",
      "😌 https://t.co/Zkk0KTEolr\n",
      "-----\n",
      "RT @EvelinaHahne: Nayib Bukele is truly an honorable man for his country. I wish Sweden had a leader like him.\n",
      "\n",
      "The world is in desperate n…\n",
      "-----\n",
      "Gracias a Dios. https://t.co/C8jdb86kxQ\n",
      "-----\n",
      "🤷🏻‍♂️ https://t.co/8I62xrWsbb\n",
      "-----\n",
      "RT @RapidResponse47: .@POTUS on Tren de Aragua: \"They're a group of thugs that... come from the prisons of Venezuela. They're dangerous peo…\n",
      "-----\n",
      "Gracias a Dios. https://t.co/E7PSzIWFNt\n",
      "-----\n",
      "🇸🇻 https://t.co/yVRGX8hCvf\n",
      "-----\n",
      "He visto muchas publicaciones como esta y, la verdad, no entiendo la obsesión con El Salvador. Pero, en todo caso, 28 de los 32 estados de México tienen una población igual o menor a la de El Salvador.\n",
      "\n",
      "¿Por qué, entonces, no pueden resolver el tema de la seguridad en un solo https://t.co/WHjFC1kdOX\n",
      "-----\n"
     ]
    }
   ],
   "source": [
    "import tweepy\n",
    "import csv \n",
    "\n",
    "#Bearer token para poder usar una cuenta de twitter\n",
    "bearer= 'AAAAAAAAAAAAAAAAAAAAADmx0AEAAAAA40HeZnialu6TCsnc0sQY4PJIyZo%3DrvHkbehI6eg0QK97vuDff7Xdj4DsCbL72b0wv4X9XqMkK6m4zA'\n",
    "client = tweepy.Client(bearer_token=bearer)\n",
    "\n",
    "\n",
    "#Ingresar usuario\n",
    "username = input(\"Ingresa el usuario de la cuenta\")\n",
    "\n",
    "\n",
    "#Excepción por si el usuario no existe\n",
    "try:\n",
    "    user = client.get_user(username=username)\n",
    "    user_id = user.data.id\n",
    "except tweepy.NotFound:\n",
    "      print(\"El usuario no existe\")\n",
    "except tweepy.Unauthorized:\n",
    "      print(\"El usuario tiene el perfil en privado\")      \n",
    "\n",
    "\n",
    "#Obtener tweets del usuario      \n",
    "tweets = client.get_users_tweets(\n",
    "        id=user_id,\n",
    "        max_results=10)\n",
    "\n",
    "#Mostrar los tweets\n",
    "for tweet in tweets.data:\n",
    "    print(tweet.text)\n",
    "    print(\"-----\")\n",
    "\n",
    "\n",
    "\n"
   ]
  }
 ],
 "metadata": {
  "kernelspec": {
   "display_name": ".venv",
   "language": "python",
   "name": "python3"
  },
  "language_info": {
   "codemirror_mode": {
    "name": "ipython",
    "version": 3
   },
   "file_extension": ".py",
   "mimetype": "text/x-python",
   "name": "python",
   "nbconvert_exporter": "python",
   "pygments_lexer": "ipython3",
   "version": "3.11.2"
  }
 },
 "nbformat": 4,
 "nbformat_minor": 2
}
