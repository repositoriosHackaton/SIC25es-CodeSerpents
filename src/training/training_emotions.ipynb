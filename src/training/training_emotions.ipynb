{
 "cells": [
  {
   "cell_type": "code",
   "execution_count": 2,
   "metadata": {},
   "outputs": [
    {
     "name": "stderr",
     "output_type": "stream",
     "text": [
      "/home/jordi/entornos/entorno_sic/lib/python3.11/site-packages/tqdm/auto.py:21: TqdmWarning: IProgress not found. Please update jupyter and ipywidgets. See https://ipywidgets.readthedocs.io/en/stable/user_install.html\n",
      "  from .autonotebook import tqdm as notebook_tqdm\n"
     ]
    }
   ],
   "source": [
    "import kagglehub\n",
    "import os\n",
    "import numpy as np\n",
    "import pandas as pd\n",
    "import re\n",
    "import nltk\n",
    "from nltk.corpus import stopwords\n",
    "from sklearn.model_selection import train_test_split\n",
    "from mlxtend.plotting import plot_confusion_matrix\n",
    "from sklearn.tree import DecisionTreeClassifier\n",
    "from sklearn.metrics import accuracy_score, confusion_matrix, classification_report\n",
    "from nltk.corpus import stopwords\n",
    "from nltk.tokenize import word_tokenize\n",
    "from nltk.stem import WordNetLemmatizer\n",
    "import joblib\n",
    "from sklearn.feature_extraction.text import TfidfVectorizer\n",
    "import matplotlib.pyplot as plt\n",
    "\n"
   ]
  },
  {
   "cell_type": "code",
   "execution_count": 3,
   "metadata": {},
   "outputs": [],
   "source": [
    "\n",
    "#DataSet para reconocimiento de emociones\n",
    "\"\"\"\n",
    "    Este data set ayuda a reconocer seis emociones básicas\n",
    "        sadness (0), joy (1), love (2), anger (3), fear (4), surprise(5)\n",
    "    \n",
    "    \"\"\"\n",
    "path = kagglehub.dataset_download(\"parulpandey/emotion-dataset\")\n",
    "df_1 = pd.read_csv('../data_sets/emotion_recognition1.csv')\n",
    "df_2 = pd.read_csv('../data_sets/emotion_recognition2.csv')\n",
    "df_3 = pd.read_csv('../data_sets/emotion_recognition3.csv')\n",
    "\n"
   ]
  },
  {
   "cell_type": "code",
   "execution_count": 4,
   "metadata": {},
   "outputs": [
    {
     "name": "stdout",
     "output_type": "stream",
     "text": [
      "                                                text  label\n",
      "0  im feeling rather rotten so im not very ambiti...      0\n",
      "1          im updating my blog because i feel shitty      0\n",
      "2  i never make her separate from me because i do...      0\n",
      "3  i left with my bouquet of red and yellow tulip...      1\n",
      "4    i was feeling a little vain when i did this one      0\n",
      "[0 1 4 3 2 5]\n"
     ]
    }
   ],
   "source": [
    "print(df_1.head())\n",
    "print(df_1['label'].unique())"
   ]
  },
  {
   "cell_type": "code",
   "execution_count": 5,
   "metadata": {},
   "outputs": [
    {
     "name": "stdout",
     "output_type": "stream",
     "text": [
      "                                                text  label\n",
      "0                            i didnt feel humiliated      0\n",
      "1  i can go from feeling so hopeless to so damned...      0\n",
      "2   im grabbing a minute to post i feel greedy wrong      3\n",
      "3  i am ever feeling nostalgic about the fireplac...      2\n",
      "4                               i am feeling grouchy      3\n",
      "[0 3 2 5 4 1]\n"
     ]
    }
   ],
   "source": [
    "print(df_2.head())\n",
    "print((df_2['label'].unique()))"
   ]
  },
  {
   "cell_type": "code",
   "execution_count": 6,
   "metadata": {},
   "outputs": [
    {
     "name": "stdout",
     "output_type": "stream",
     "text": [
      "                                                text  label\n",
      "0  im feeling quite sad and sorry for myself but ...      0\n",
      "1  i feel like i am still looking at a blank canv...      0\n",
      "2                     i feel like a faithful servant      2\n",
      "3                  i am just feeling cranky and blue      3\n",
      "4  i can have for a treat or if i am feeling festive      1\n",
      "[0 2 3 1 4 5]\n"
     ]
    }
   ],
   "source": [
    "print(df_3.head())\n",
    "print((df_3['label'].unique()))"
   ]
  },
  {
   "cell_type": "code",
   "execution_count": 7,
   "metadata": {},
   "outputs": [
    {
     "name": "stdout",
     "output_type": "stream",
     "text": [
      "                                                text  label\n",
      "0  im feeling rather rotten so im not very ambiti...      0\n",
      "1          im updating my blog because i feel shitty      0\n",
      "2  i never make her separate from me because i do...      0\n",
      "3  i left with my bouquet of red and yellow tulip...      1\n",
      "4    i was feeling a little vain when i did this one      0\n",
      "[0 1 4 3 2 5]\n"
     ]
    }
   ],
   "source": [
    "df_emotions_recognition = pd.concat([df_1, df_2, df_3], ignore_index= True)\n",
    "print(df_emotions_recognition.head())\n",
    "print(df_emotions_recognition['label'].unique())"
   ]
  },
  {
   "cell_type": "code",
   "execution_count": 8,
   "metadata": {},
   "outputs": [
    {
     "name": "stdout",
     "output_type": "stream",
     "text": [
      "                                                text  emotion\n",
      "0  im feeling rather rotten so im not very ambiti...  sadness\n",
      "1          im updating my blog because i feel shitty  sadness\n",
      "2  i never make her separate from me because i do...  sadness\n",
      "3  i left with my bouquet of red and yellow tulip...      joy\n",
      "4    i was feeling a little vain when i did this one  sadness\n",
      "['sadness' 'joy' 'fear' 'anger' 'love' 'surprise']\n",
      "Filas: 20000\n",
      "Columnas: 2 \n"
     ]
    }
   ],
   "source": [
    "#Cambiaremos el valor de las etiquetas\n",
    "df_emotions_recognition = df_emotions_recognition.rename(columns={'text':'text','label':'emotion'})\n",
    "df_emotions_recognition['emotion'] = df_emotions_recognition['emotion'].replace({0: 'sadness', 1: 'joy', 2: 'love', 3: 'anger', 4: 'fear', 5: 'surprise'})\n",
    "print(df_emotions_recognition.head())\n",
    "print(df_emotions_recognition['emotion'].unique())\n",
    "rows, columns = df_emotions_recognition.shape\n",
    "print(f'Filas: {rows}\\nColumnas: {columns} ')"
   ]
  },
  {
   "cell_type": "code",
   "execution_count": 9,
   "metadata": {},
   "outputs": [
    {
     "name": "stdout",
     "output_type": "stream",
     "text": [
      "                                                text     emotion\n",
      "0  we understand that most people who reply immed...  depression\n",
      "1  welcome to r depression s check in post a plac...  depression\n",
      "2  anyone else instead of sleeping more when depr...  depression\n",
      "3  i ve kind of stuffed around a lot in my life d...  depression\n",
      "4  sleep is my greatest and most comforting escap...  depression\n",
      "['depression' 'neutral']\n",
      "Filas: 7731\n",
      "Columnas: 2\n"
     ]
    }
   ],
   "source": [
    "\"\"\"\n",
    "    Este data set, es una compilación de textos extraídos de reddit\n",
    "    Estos textos indican depresión {1} y textos neutrales {0}\n",
    "    \"\"\"\n",
    "\n",
    "path = kagglehub.dataset_download(\"infamouscoder/depression-reddit-cleaned\")\n",
    "df_depression = pd.read_csv('../data_sets/depression_dataset_reddit_cleaned.csv')\n",
    "df_depression = df_depression.rename(columns={'clean_text': 'text', 'is_depression': 'emotion'})\n",
    "df_depression['emotion'] = df_depression['emotion'].replace({0:'neutral',1:'depression'})\n",
    "print(df_depression.head())\n",
    "print(df_depression['emotion'].unique())\n",
    "rows, columns = df_depression.shape\n",
    "print(f'Filas: {rows}\\nColumnas: {columns}')"
   ]
  },
  {
   "cell_type": "code",
   "execution_count": 12,
   "metadata": {},
   "outputs": [
    {
     "name": "stdout",
     "output_type": "stream",
     "text": [
      "Filas: 27731\n",
      "Columnas: 2\n",
      "                                                text     emotion\n",
      "0  we understand that most people who reply immed...  depression\n",
      "1  welcome to r depression s check in post a plac...  depression\n",
      "2  anyone else instead of sleeping more when depr...  depression\n",
      "3  i ve kind of stuffed around a lot in my life d...  depression\n",
      "4  sleep is my greatest and most comforting escap...  depression\n",
      "['depression' 'neutral' 'sadness' 'joy' 'fear' 'anger' 'love' 'surprise']\n"
     ]
    }
   ],
   "source": [
    "#Para un entrenamiento generalizado, y así ajustar los parámetros del modelo de forma global\n",
    "#Usaremos una amalgama como dataframes\n",
    "#df = pd.concat([df_depression_detection,df_depression,df_emotions_recognition], ignore_index=True)\n",
    "df = pd.concat([df_depression,df_emotions_recognition], ignore_index=True)\n",
    "\n",
    "rows, columns = df.shape\n",
    "print(f'Filas: {rows}\\nColumnas: {columns}')\n",
    "print(df.head())\n",
    "print(df['emotion'].unique())"
   ]
  },
  {
   "cell_type": "code",
   "execution_count": 13,
   "metadata": {},
   "outputs": [
    {
     "data": {
      "text/plain": [
       "0        understand people reply immediately op invitat...\n",
       "1        welcome r depression check post place take mom...\n",
       "2        anyone else instead sleeping depressed stay ni...\n",
       "3        kind stuffed around lot life delaying inevitab...\n",
       "4        sleep greatest comforting escape whenever wake...\n",
       "                               ...                        \n",
       "27726    im ssa examination tomorrow morning im quite w...\n",
       "27727    constantly worry fight nature push limit inner...\n",
       "27728           feel important share info experience thing\n",
       "27729    truly feel passionate enough something stay tr...\n",
       "27730    feel like wanna buy cute make see online even one\n",
       "Name: text, Length: 27731, dtype: object"
      ]
     },
     "execution_count": 13,
     "metadata": {},
     "output_type": "execute_result"
    }
   ],
   "source": [
    "#Definir funcion para procesamiento de data\n",
    "\n",
    "def text_to_words (tweet):\n",
    "    letters_only= re.sub(\"[^a-zA-Z]\", \" \", tweet) \n",
    "    words = letters_only.lower().split() \n",
    "    stops = set(stopwords.words(\"english\")) \n",
    "    lemmatizer = WordNetLemmatizer()\n",
    "    meaningful_words =[lemmatizer.lemmatize(w) for w in words if w not in stops]\n",
    "    return(\" \".join( meaningful_words ))\n",
    "\n",
    "#Aplicamos las técnicas de PLN a los textos \n",
    "df['text'] = df['text'].apply(lambda x: text_to_words(x))\n",
    "df['text']"
   ]
  },
  {
   "cell_type": "code",
   "execution_count": 14,
   "metadata": {},
   "outputs": [],
   "source": [
    "#Dividimos data en entrenamiento y testing\n",
    "train, test = train_test_split(df, test_size=0.2, random_state=42)\n",
    "#Concentramos la data en listas\n",
    "train_clean_message = []\n",
    "for message in train['text']:\n",
    "    train_clean_message.append(message)\n",
    "\n",
    "test_clean_message = []\n",
    "for message in test['text']:\n",
    "    test_clean_message.append(message)\n",
    "#Vectorizamos la data\n",
    "v = TfidfVectorizer()\n",
    "train_features = v.fit_transform(train_clean_message)\n",
    "test_features = v.transform(test_clean_message)"
   ]
  },
  {
   "cell_type": "code",
   "execution_count": null,
   "metadata": {},
   "outputs": [
    {
     "name": "stdout",
     "output_type": "stream",
     "text": [
      "Accuracy of DecisionTreeClassifieris 0.8397331891112313\n",
      "              precision    recall  f1-score   support\n",
      "\n",
      "       anger       0.85      0.81      0.83       557\n",
      "  depression       0.87      0.80      0.83       822\n",
      "        fear       0.81      0.81      0.81       482\n",
      "         joy       0.86      0.87      0.87      1358\n",
      "        love       0.78      0.76      0.77       308\n",
      "     neutral       0.80      0.87      0.83       709\n",
      "     sadness       0.87      0.87      0.87      1168\n",
      "    surprise       0.69      0.73      0.71       143\n",
      "\n",
      "    accuracy                           0.84      5547\n",
      "   macro avg       0.82      0.82      0.82      5547\n",
      "weighted avg       0.84      0.84      0.84      5547\n",
      "\n"
     ]
    },
    {
     "data": {
      "text/plain": [
       "<Figure size 640x480 with 0 Axes>"
      ]
     },
     "metadata": {},
     "output_type": "display_data"
    },
    {
     "data": {
      "image/png": "[encoded data removed]",
      "text/plain": [
       "<Figure size 1200x800 with 1 Axes>"
      ]
     },
     "metadata": {},
     "output_type": "display_data"
    },
    {
     "name": "stdout",
     "output_type": "stream",
     "text": [
      "Accuracy of SVCis 0.8923742563547864\n",
      "              precision    recall  f1-score   support\n",
      "\n",
      "       anger       0.88      0.86      0.87       550\n",
      "  depression       0.94      0.94      0.94       751\n",
      "        fear       0.84      0.83      0.83       482\n",
      "         joy       0.92      0.89      0.91      1423\n",
      "        love       0.75      0.81      0.77       277\n",
      "     neutral       0.93      0.90      0.91       799\n",
      "     sadness       0.91      0.92      0.91      1142\n",
      "    surprise       0.66      0.80      0.73       123\n",
      "\n",
      "    accuracy                           0.89      5547\n",
      "   macro avg       0.85      0.87      0.86      5547\n",
      "weighted avg       0.89      0.89      0.89      5547\n",
      "\n"
     ]
    },
    {
     "data": {
      "text/plain": [
       "<Figure size 640x480 with 0 Axes>"
      ]
     },
     "metadata": {},
     "output_type": "display_data"
    },
    {
     "data": {
      "image/png": "[encoded data removed]",
      "text/plain": [
       "<Figure size 1200x800 with 1 Axes>"
      ]
     },
     "metadata": {},
     "output_type": "display_data"
    }
   ],
   "source": [
    "#Entrenamos el modelo Cargado\n",
    "from sklearn.ensemble import RandomForestClassifier\n",
    "from sklearn.svm import SVC\n",
    "\n",
    "DTCM1 =  DecisionTreeClassifier()\n",
    "SVCM2 =  SVC(kernel='linear', random_state=42)\n",
    "\n",
    "Classifiers = [\n",
    "    DTCM1,\n",
    "    SVCM2\n",
    "\n",
    "]\n",
    "\n",
    "dense_features = train_features.toarray()\n",
    "dense_test = test_features.toarray()\n",
    "\n",
    "Accuracy = []\n",
    "Model = []\n",
    "\n",
    "label_target = 'emotion'\n",
    "for classifier in Classifiers:\n",
    "    try:\n",
    "        fit = classifier.fit(train_features, train[f'{label_target}'])\n",
    "        pred = fit.predict(test_features)\n",
    "    except:\n",
    "        fit= classifier.fit(dense_features, train[f'{label_target}'])\n",
    "        pred = fit.predict(dense_test)\n",
    "    accuracy = accuracy_score(pred, test[f'{label_target}'])\n",
    "    Accuracy.append(accuracy)\n",
    "    Model.append(classifier.__class__.__name__)\n",
    "    print('Accuracy of '+classifier.__class__.__name__+'is '+str(accuracy))\n",
    "    print (classification_report (pred, test[f'{label_target}']))\n",
    "    cm = confusion_matrix(pred, test[f'{label_target}'])\n",
    "    plt.figure()\n",
    "    plot_confusion_matrix(cm, figsize=(12,8), hide_ticks=True, cmap=plt.cm.Reds)\n",
    "    plt.show()"
   ]
  },
  {
   "cell_type": "code",
   "execution_count": null,
   "metadata": {},
   "outputs": [
    {
     "data": {
      "text/plain": [
       "['../models/SVCM2.pkl']"
      ]
     },
     "execution_count": 21,
     "metadata": {},
     "output_type": "execute_result"
    }
   ],
   "source": [
    "#Guardamos el modelo\n",
    "joblib.dump(DTCM1, '../models/DTCM1.pkl')\n",
    "joblib.dump(SVCM2, '../models/SVCM2.pkl')\n",
    "\n"
   ]
  },
  {
   "cell_type": "code",
   "execution_count": 22,
   "metadata": {},
   "outputs": [
    {
     "data": {
      "text/plain": [
       "['../models/vectorizador.pkl']"
      ]
     },
     "execution_count": 22,
     "metadata": {},
     "output_type": "execute_result"
    }
   ],
   "source": [
    "#Guardamos el vectorizador\n",
    "joblib.dump(v, \"../models/vectorizador.pkl\")  # Guarda el vectorizador\n"
   ]
  },
  {
   "cell_type": "code",
   "execution_count": null,
   "metadata": {},
   "outputs": [],
   "source": [
    "#Híbrido de modelo, modelo con reglas\n"
   ]
  }
 ],
 "metadata": {
  "kernelspec": {
   "display_name": "entorno_sic",
   "language": "python",
   "name": "python3"
  },
  "language_info": {
   "codemirror_mode": {
    "name": "ipython",
    "version": 3
   },
   "file_extension": ".py",
   "mimetype": "text/x-python",
   "name": "python",
   "nbconvert_exporter": "python",
   "pygments_lexer": "ipython3",
   "version": "3.11.2"
  }
 },
 "nbformat": 4,
 "nbformat_minor": 2
}
