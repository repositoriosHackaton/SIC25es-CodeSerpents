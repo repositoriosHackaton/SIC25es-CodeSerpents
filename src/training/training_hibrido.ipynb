{
 "cells": [
  {
   "cell_type": "code",
   "execution_count": null,
   "metadata": {},
   "outputs": [],
   "source": [
    "#Creación del modelo ya entrenado con un híbridp\n",
    "#Modelo SVC;Chatbot ->  ML-Reglas"
   ]
  },
  {
   "cell_type": "code",
   "execution_count": null,
   "metadata": {},
   "outputs": [],
   "source": [
    "import json\n",
    "import joblib\n",
    "import nltk\n",
    "import json\n",
    "import random\n",
    "import numpy as np\n",
    "from nltk.stem import PorterStemmer\n",
    "from sklearn.preprocessing import LabelEncoder\n",
    "from sklearn.feature_extraction.text import CountVectorizer\n",
    "from tensorflow import keras\n",
    "import re\n",
    "from tensorflow.keras.models import Sequential\n",
    "from tensorflow.keras.layers import Dense\n",
    "from tensorflow.keras.optimizers import Adam\n",
    "from nltk.corpus import stopwords\n",
    "from nltk.stem import WordNetLemmatizer"
   ]
  },
  {
   "cell_type": "code",
   "execution_count": null,
   "metadata": {},
   "outputs": [],
   "source": [
    "#Crearemos una biblioteca para reconocer patrones básicos\n",
    "#Esto será útil, para interacciones mecánicas y patrones cortos\n",
    "#Imp: translate and setup everything in english\n",
    "\n",
    "def guardar_json(datos, filename):\n",
    "    archivo = open(filename, \"W\")\n",
    "    json.dump(datos, archivo, indent=4)\n",
    "\n",
    "biblioteca = {\n",
    "              \"intents\": [\n",
    "                {\n",
    "                  \"tag\": \"saludo\",\n",
    "                  \"patterns\": [\n",
    "                    \"Hola\",\n",
    "                    \"¿Cómo estás?\",\n",
    "                    \"Buenos días\",\n",
    "                    \"¡Hola!\",\n",
    "                    \"¡Qué tal!\"\n",
    "                  ],\n",
    "                  \"responses\": [\n",
    "                    \"¡Hola! ¿Cómo puedo ayudarte?\",\n",
    "                    \"¡Hola! ¿En qué puedo ayudarte hoy?\"\n",
    "                  ]\n",
    "                },\n",
    "                {\n",
    "                  \"tag\": \"despedida\",\n",
    "                  \"patterns\": [\n",
    "                    \"Adiós\",\n",
    "                    \"Hasta luego\",\n",
    "                    \"Nos vemos\",\n",
    "                    \"Hasta pronto\"\n",
    "                  ],\n",
    "                  \"responses\": [\n",
    "                    \"¡Hasta luego! Que tengas un buen día.\",\n",
    "                    \"¡Adiós! ¡Vuelve pronto!\"\n",
    "                  ]\n",
    "                },\n",
    "                {\"tag\":\"agradecimientos\",\n",
    "                 \"patterns\":[\"gracias\",\n",
    "                             \"muchas gracias\",\n",
    "                             \"mil gracias\",\n",
    "                             \"muy amable\",\n",
    "                             \"se lo agradezco\",\n",
    "                             \"fue de ayuda\",\n",
    "                             \"gracias por la ayuda\",\n",
    "                             \"muy agradecido\",\n",
    "                             \"gracias por su tiempo\"                             \n",
    "                            ],\n",
    "                 \"responses\":[\"de nada\",\n",
    "                              \"feliz por ayudarlo\",\n",
    "                              \"gracias a usted\",\n",
    "                              \"estamos para servirle\",\n",
    "                              \"fue un placer\"\n",
    "                             ]\n",
    "                },\n",
    "                 \n",
    "                {\"tag\":\"norespuesta\",\n",
    "                 \"patterns\":[\"\"],\n",
    "                 \"responses\":[\"no se detecto una respuesta\"\n",
    "                             ]                    \n",
    "                },\n",
    "                {\n",
    "                    \"tag\": \"depression\",\n",
    "                    \"patterns\": [\"\"],\n",
    "                    \"responses\":[]\n",
    "                },\n",
    "                {\n",
    "                    \"tag\": \"joy\",\n",
    "                    \"patterns\": [\"\"] \n",
    "                },\n",
    "                {\n",
    "                    \"tag\": \"anger\",\n",
    "                    \"patterns\":[]\n",
    "                }\n",
    "              ]\n",
    "            }\n",
    "\n",
    "guardar_json(biblioteca, \"biblioteca_emo_rec.json\")\n",
    "biblioteca"
   ]
  },
  {
   "cell_type": "code",
   "execution_count": null,
   "metadata": {},
   "outputs": [],
   "source": [
    "#Cargaremos el modelo ya preentrenado, para un formato de prueba, los trataremos diferentes en el guardado\n",
    "SCVCM2HYBRID = joblib.load(\"../models/SVCM2.pkl\")"
   ]
  },
  {
   "cell_type": "code",
   "execution_count": null,
   "metadata": {},
   "outputs": [
    {
     "data": {
      "text/plain": [
       "''"
      ]
     },
     "execution_count": 3,
     "metadata": {},
     "output_type": "execute_result"
    }
   ],
   "source": [
    "\"\"\"\n",
    "    Arquitectura del híbrido:\n",
    "        Biblioteca\n",
    "        Modelo Preentrenado\n",
    "        Red Neuronal?\n",
    "\"\"\""
   ]
  },
  {
   "cell_type": "code",
   "execution_count": null,
   "metadata": {},
   "outputs": [],
   "source": [
    "with open('biblioteca_emo_rec.json') as file:\n",
    "    biblioteca = json.load(file)"
   ]
  },
  {
   "cell_type": "code",
   "execution_count": null,
   "metadata": {},
   "outputs": [],
   "source": [
    "#Inicializar Stemmer y Encoder\n",
    "stemmer = PorterStemmer()\n",
    "encoder = LabelEncoder()"
   ]
  },
  {
   "cell_type": "code",
   "execution_count": null,
   "metadata": {},
   "outputs": [],
   "source": [
    "#Prepararemos lo datos \n",
    "patterns = []  # Base de conocimientos por cada intención\n",
    "responses = [] # Respuesta de la intención\n",
    "tags = []      # Intents"
   ]
  },
  {
   "cell_type": "code",
   "execution_count": null,
   "metadata": {},
   "outputs": [],
   "source": [
    "\n",
    "def text_to_words(text):\n",
    "    letters_only = re.sub(\"[^a-zA-Z]\", \"\", text)\n",
    "    words = letters_only.lower.split()\n",
    "    stops = set(stopwords.words(\"english\"))\n",
    "    lematizer = WordNetLemmatizer()\n",
    "    meaning_words = [lematizer.lemmatize(word) for word in words if word not in stops ]\n",
    "    return \"\".join(meaning_words)\n"
   ]
  }
 ],
 "metadata": {
  "kernelspec": {
   "display_name": "entorno_sic",
   "language": "python",
   "name": "python3"
  },
  "language_info": {
   "codemirror_mode": {
    "name": "ipython",
    "version": 3
   },
   "file_extension": ".py",
   "mimetype": "text/x-python",
   "name": "python",
   "nbconvert_exporter": "python",
   "pygments_lexer": "ipython3",
   "version": "3.11.2"
  }
 },
 "nbformat": 4,
 "nbformat_minor": 2
}
