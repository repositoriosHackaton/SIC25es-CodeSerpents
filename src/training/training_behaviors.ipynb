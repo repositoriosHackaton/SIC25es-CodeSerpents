{
 "cells": [
  {
   "cell_type": "code",
   "execution_count": null,
   "metadata": {},
   "outputs": [
    {
     "data": {
      "text/plain": [
       "'_summary_\\n        Implemtaciones posibles:\\n            Tooling: \\n                Chatbot? Míneria de textos, de alguna red social, gmail, sistema de control?\\n            Institucional: \\n                Sería útil para las empresas en detectar conductas inapropiadas tales como racismo,\\n                machismo, acoso sexual, por medios oficiales de comunicación.\\n                    datasets = machismo, acoso sexual, racismo\\n                Implementado como un sistema de control parental, para controlar textos peligrosos\\n                    datasets? \\n    '"
      ]
     },
     "execution_count": 1,
     "metadata": {},
     "output_type": "execute_result"
    }
   ],
   "source": [
    "#Se hará un modelo capaz de reconocer conductas inapropiadas \n",
    "\"\"\"_summary_\n",
    "        Implemtaciones posibles:\n",
    "            Tooling: \n",
    "                Chatbot? Míneria de textos, de alguna red social, gmail, sistema de control?\n",
    "            Institucional: \n",
    "                Sería útil para las empresas en detectar conductas inapropiadas tales como racismo,\n",
    "                machismo, acoso sexual, por medios oficiales de comunicación.\n",
    "                    datasets = machismo, acoso sexual, racismo, xenofobia\n",
    "                Implementado como un sistema de control parental, para controlar textos peligrosos\n",
    "                    datasets? \n",
    "    \"\"\""
   ]
  },
  {
   "cell_type": "code",
   "execution_count": 2,
   "metadata": {},
   "outputs": [
    {
     "name": "stderr",
     "output_type": "stream",
     "text": [
      "/home/jordi/entornos/entorno_sic/lib/python3.11/site-packages/tqdm/auto.py:21: TqdmWarning: IProgress not found. Please update jupyter and ipywidgets. See https://ipywidgets.readthedocs.io/en/stable/user_install.html\n",
      "  from .autonotebook import tqdm as notebook_tqdm\n"
     ]
    }
   ],
   "source": [
    "# Importes\n",
    "import kagglehub"
   ]
  },
  {
   "cell_type": "code",
   "execution_count": null,
   "metadata": {},
   "outputs": [
    {
     "name": "stdout",
     "output_type": "stream",
     "text": [
      "Path to dataset files: /home/jordi/.cache/kagglehub/datasets/rishabhjohri/racismdetectiondataset/versions/1\n"
     ]
    }
   ],
   "source": [
    "#Acá irán los datasets, ahorita en concepto de uso\n",
    "\n",
    "\n",
    "\"\"\"\n",
    "    Es un dataset que nos permite detectar textos racistas, en base al target:\n",
    "    target inicial {1:is racist, 0:non-racist}\n",
    "\"\"\"\n",
    "path = kagglehub.dataset_download(\"rishabhjohri/racismdetectiondataset\")\n",
    "print(\"Path to dataset files:\", path)"
   ]
  },
  {
   "cell_type": "code",
   "execution_count": null,
   "metadata": {},
   "outputs": [
    {
     "name": "stdout",
     "output_type": "stream",
     "text": [
      "Downloading from https://www.kaggle.com/api/v1/datasets/download/buchali/racism-xenophobia-detection-model?dataset_version_number=1...\n"
     ]
    },
    {
     "name": "stderr",
     "output_type": "stream",
     "text": [
      "100%|██████████| 437M/437M [00:26<00:00, 17.5MB/s] "
     ]
    },
    {
     "name": "stdout",
     "output_type": "stream",
     "text": [
      "Extracting files...\n"
     ]
    },
    {
     "name": "stderr",
     "output_type": "stream",
     "text": [
      "\n"
     ]
    },
    {
     "name": "stdout",
     "output_type": "stream",
     "text": [
      "Path to dataset files: /home/jordi/.cache/kagglehub/datasets/buchali/racism-xenophobia-detection-model/versions/1\n"
     ]
    }
   ],
   "source": []
  },
  {
   "cell_type": "code",
   "execution_count": null,
   "metadata": {},
   "outputs": [],
   "source": [
    "#Diccionarios de reglas?"
   ]
  }
 ],
 "metadata": {
  "kernelspec": {
   "display_name": "entorno_sic",
   "language": "python",
   "name": "python3"
  },
  "language_info": {
   "codemirror_mode": {
    "name": "ipython",
    "version": 3
   },
   "file_extension": ".py",
   "mimetype": "text/x-python",
   "name": "python",
   "nbconvert_exporter": "python",
   "pygments_lexer": "ipython3",
   "version": "3.11.2"
  }
 },
 "nbformat": 4,
 "nbformat_minor": 2
}
